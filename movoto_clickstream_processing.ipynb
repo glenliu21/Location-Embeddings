{
 "cells": [
  {
   "cell_type": "code",
   "execution_count": 1,
   "id": "f9477dd2",
   "metadata": {},
   "outputs": [
    {
     "name": "stdout",
     "output_type": "stream",
     "text": [
      "Starting Spark application\n"
     ]
    },
    {
     "data": {
      "text/html": [
       "<table>\n",
       "<tr><th>ID</th><th>YARN Application ID</th><th>Kind</th><th>State</th><th>Spark UI</th><th>Driver log</th><th>User</th><th>Current session?</th></tr><tr><td>367</td><td>application_1654871637433_4345</td><td>pyspark</td><td>idle</td><td><a target=\"_blank\" href=\"http://ip-172-24-41-241.ec2.internal:20888/proxy/application_1654871637433_4345/\">Link</a></td><td><a target=\"_blank\" href=\"http://ip-172-24-44-37.ec2.internal:8042/node/containerlogs/container_1654871637433_4345_01_000001/ds-gliu\">Link</a></td><td>ds-gliu</td><td>✔</td></tr></table>"
      ],
      "text/plain": [
       "<IPython.core.display.HTML object>"
      ]
     },
     "metadata": {},
     "output_type": "display_data"
    },
    {
     "data": {
      "application/vnd.jupyter.widget-view+json": {
       "model_id": "8cff9a3f794a4b82b8b31fa418315e3c",
       "version_major": 2,
       "version_minor": 0
      },
      "text/plain": [
       "FloatProgress(value=0.0, bar_style='info', description='Progress:', layout=Layout(height='25px', width='50%'),…"
      ]
     },
     "metadata": {},
     "output_type": "display_data"
    },
    {
     "name": "stdout",
     "output_type": "stream",
     "text": [
      "SparkSession available as 'spark'.\n"
     ]
    },
    {
     "data": {
      "application/vnd.jupyter.widget-view+json": {
       "model_id": "6a86fef1d12a4379b31f372b5555163c",
       "version_major": 2,
       "version_minor": 0
      },
      "text/plain": [
       "FloatProgress(value=0.0, bar_style='info', description='Progress:', layout=Layout(height='25px', width='50%'),…"
      ]
     },
     "metadata": {},
     "output_type": "display_data"
    }
   ],
   "source": [
    "from pyspark import SQLContext, SparkContext, SparkConf\n",
    "from pyspark.sql import SparkSession\n",
    "from pyspark.sql.functions import col, countDistinct, row_number\n",
    "import pyspark.sql.functions as f\n",
    "from pyspark.sql.window import Windowes import LongType\n",
    "from pyspark.sql.functions import udf\n",
    "from pyspark.sql.types import StringType, IntegerType\n",
    "import math"
   ]
  },
  {
   "cell_type": "code",
   "execution_count": 2,
   "id": "1848c81d",
   "metadata": {},
   "outputs": [
    {
     "data": {
      "application/vnd.jupyter.widget-view+json": {
       "model_id": "2b9790cbe5f5474c9d59cf813ff885e0",
       "version_major": 2,
       "version_minor": 0
      },
      "text/plain": [
       "FloatProgress(value=0.0, bar_style='info', description='Progress:', layout=Layout(height='25px', width='50%'),…"
      ]
     },
     "metadata": {},
     "output_type": "display_data"
    }
   ],
   "source": [
    "# april_2022 = \"s3://ojo-data-science/movoto-data/big_query/webanalytics/sessions_hits_newschema_v5/2022/04/*/\"\n",
    "may_2022 = \"s3://ojo-data-science/movoto-data/big_query/webanalytics/sessions_hits_newschema_v5/2022/05/*/\"\n",
    "june_2022 = \"s3://ojo-data-science/movoto-data/big_query/webanalytics/sessions_hits_newschema_v5/2022/06/*/\"\n",
    "infiles = [may_2022, june_2022]\n",
    "df = spark.read.parquet(*infiles) "
   ]
  },
  {
   "cell_type": "code",
   "execution_count": 3,
   "id": "137f1d31",
   "metadata": {},
   "outputs": [
    {
     "data": {
      "application/vnd.jupyter.widget-view+json": {
       "model_id": "11de0801436840b595de086ddaea872b",
       "version_major": 2,
       "version_minor": 0
      },
      "text/plain": [
       "FloatProgress(value=0.0, bar_style='info', description='Progress:', layout=Layout(height='25px', width='50%'),…"
      ]
     },
     "metadata": {},
     "output_type": "display_data"
    }
   ],
   "source": [
    "# Filter out non-listing views activity\n",
    "df = df.filter(col(\"hits_page_pageTitle\") == \"Property Detail\")\n",
    "df = df.filter(col(\"hits_customDimensions_index_64\") != \"\")\n",
    "df = df.filter(col(\"hits_isInteraction\") == \"TRUE\")"
   ]
  },
  {
   "cell_type": "code",
   "execution_count": 4,
   "id": "e54bf898",
   "metadata": {},
   "outputs": [
    {
     "data": {
      "application/vnd.jupyter.widget-view+json": {
       "model_id": "f2510a0aa5024e00aeec9fedc5c64d3f",
       "version_major": 2,
       "version_minor": 0
      },
      "text/plain": [
       "FloatProgress(value=0.0, bar_style='info', description='Progress:', layout=Layout(height='25px', width='50%'),…"
      ]
     },
     "metadata": {},
     "output_type": "display_data"
    }
   ],
   "source": [
    "# Example URL: \"https://www.movoto.com/home/5021-20th-street-ct-e-bradenton-fl-34203-431_a4539073\"\n",
    "# MLS ID: 431\n",
    "# Property ID: a4539073\n",
    "# Property zipcode: 34203\n",
    "# Property address: 5021-20th-street-ct-e-bradenton-fl-34203-431_a4539073\n",
    "\n",
    "# Get MLS ID\n",
    "split_col = f.split(df['hits_customDimensions_index_64'], '_')\n",
    "df = df.withColumn('mls_id', f.substring(split_col.getItem(0), -3, 3))"
   ]
  },
  {
   "cell_type": "code",
   "execution_count": 5,
   "id": "6aeab9c1",
   "metadata": {},
   "outputs": [
    {
     "data": {
      "application/vnd.jupyter.widget-view+json": {
       "model_id": "685c5a70be404f469741ce8094d01e34",
       "version_major": 2,
       "version_minor": 0
      },
      "text/plain": [
       "FloatProgress(value=0.0, bar_style='info', description='Progress:', layout=Layout(height='25px', width='50%'),…"
      ]
     },
     "metadata": {},
     "output_type": "display_data"
    }
   ],
   "source": [
    "# Get property id\n",
    "split_col = f.split(df['hits_customdimensions_index_64'], '_')\n",
    "df = df.withColumn('mls_property_id', f.substring(split_col.getItem(1), 1, 10))\n",
    "    \n",
    "# Clean up\n",
    "df = df.withColumn(\"mls_property_id\", f.when(df.mls_property_id.contains('/'), \n",
    "                                        f.expr(\"substring(mls_property_id, 1, length(mls_property_id)-3)\"))\\\n",
    "                                        .otherwise(df.mls_property_id))"
   ]
  },
  {
   "cell_type": "code",
   "execution_count": 6,
   "id": "8b265008",
   "metadata": {},
   "outputs": [
    {
     "data": {
      "application/vnd.jupyter.widget-view+json": {
       "model_id": "65fcf349c72047c89f531bc2c2604f61",
       "version_major": 2,
       "version_minor": 0
      },
      "text/plain": [
       "FloatProgress(value=0.0, bar_style='info', description='Progress:', layout=Layout(height='25px', width='50%'),…"
      ]
     },
     "metadata": {},
     "output_type": "display_data"
    }
   ],
   "source": [
    "# Get property zipcode\n",
    "split_col = f.split(df['hits_customdimensions_index_64'], '_')\n",
    "df = df.withColumn(\"cut\", f.substring(split_col.getItem(0), -9, 9))\n",
    "split_again = f.split(df[\"cut\"], \"-|/\")\n",
    "df = df.withColumn(\"col_len\", f.size(split_again))\n",
    "df = df.withColumn(\"property_zipcode\", f.when(df.col_len == 2, split_again.getItem(0)).otherwise(split_again.getItem(1)))"
   ]
  },
  {
   "cell_type": "code",
   "execution_count": 7,
   "id": "66ce860b",
   "metadata": {},
   "outputs": [
    {
     "data": {
      "application/vnd.jupyter.widget-view+json": {
       "model_id": "bb015040373544709992c0c6360a4378",
       "version_major": 2,
       "version_minor": 0
      },
      "text/plain": [
       "FloatProgress(value=0.0, bar_style='info', description='Progress:', layout=Layout(height='25px', width='50%'),…"
      ]
     },
     "metadata": {},
     "output_type": "display_data"
    }
   ],
   "source": [
    "# Get property address\n",
    "split_col = f.split(df['hits_customdimensions_index_64'], '/')\n",
    "df = df.withColumn('property_address', split_col.getItem(4))\n",
    "# Clean up address\n",
    "split_col = f.split(df['hits_customdimensions_index_64'], '_')\n",
    "df = df.withColumn(\"property_address\", f.when(df.property_address.contains('_'), \n",
    "                                        f.expr(\"substring(property_address, 1, length(property_address)-12)\"))\\\n",
    "                                        .otherwise(df.property_address))\n",
    "\n",
    "df = df.withColumn(\"property_address\", f.when(df['property_address'].substr(-3, 1) == '-', \n",
    "                                       f.expr(\"substring(property_address, 1, length(property_address)-3)\"))\\\n",
    "                                        .otherwise(df.property_address))"
   ]
  },
  {
   "cell_type": "code",
   "execution_count": 8,
   "id": "fcd3a721",
   "metadata": {},
   "outputs": [
    {
     "data": {
      "application/vnd.jupyter.widget-view+json": {
       "model_id": "c153885f1120463cab940302b010b816",
       "version_major": 2,
       "version_minor": 0
      },
      "text/plain": [
       "FloatProgress(value=0.0, bar_style='info', description='Progress:', layout=Layout(height='25px', width='50%'),…"
      ]
     },
     "metadata": {},
     "output_type": "display_data"
    }
   ],
   "source": [
    "# Remove nulls\n",
    "df = df.withColumn(\"zip-value\", f.col(\"property_zipcode\").cast(\"float\").isNotNull())\\\n",
    "    .filter(col('zip-value') == 'true')\\\n",
    "    .drop(\"zip-value\")\n",
    "\n",
    "# Remove zips with length != 5\n",
    "df = df.withColumn(\"text_left_over\", f.length(\"property_zipcode\"))\\\n",
    "    .filter(col('text_left_over') == 5)\\\n",
    "    .drop(\"text_left_over\")\n",
    "\n",
    "# Remove successive duplicate zipcodes\n",
    "df = df.withColumn(\"uniqueVisitId\", f.concat(f.col(\"visitid\"), f.col(\"fullvisitorId\")))\n",
    "window = Window.partitionBy(\"uniqueVisitId\").orderBy(\"hits_hitnumber\")\n",
    "\n",
    "# If the last zipcode is equal to the current, give False; otherwise True\n",
    "get_last = f.when(f.lag(\"property_zipcode\", 1).over(window) == col(\"property_zipcode\"), False).otherwise(True)\n",
    "df = df.withColumn(\"property_zipcode_drop_dups\", get_last)\\\n",
    "        .filter(col(\"property_zipcode_drop_dups\"))\\\n",
    "        .drop(\"property_zipcode_drop_dups\")"
   ]
  },
  {
   "cell_type": "code",
   "execution_count": 9,
   "id": "4dd87bb7",
   "metadata": {},
   "outputs": [
    {
     "data": {
      "application/vnd.jupyter.widget-view+json": {
       "model_id": "d2f323af4ec94c659b67fe3a4b0c0aed",
       "version_major": 2,
       "version_minor": 0
      },
      "text/plain": [
       "FloatProgress(value=0.0, bar_style='info', description='Progress:', layout=Layout(height='25px', width='50%'),…"
      ]
     },
     "metadata": {},
     "output_type": "display_data"
    }
   ],
   "source": [
    "# Rationale: users must spend at least 45 seconds on a listing in order for it to be a quality click\n",
    "\n",
    "# Get hits_time for next listing \n",
    "df = df.withColumn(\"lead_hits_time\", f.lead(\"hits_time\", 1).over(window))\n",
    "\n",
    "# Create new column of differences and filter \n",
    "df = df.withColumn(\"time_spent\", f.col(\"lead_hits_time\") - f.col(\"hits_time\"))\\\n",
    "        .filter(col(\"time_spent\") >= 45)\\\n",
    "        .drop(\"lead_hits_time\", \"time_spent\")"
   ]
  },
  {
   "cell_type": "code",
   "execution_count": 11,
   "id": "3d7b74d0",
   "metadata": {},
   "outputs": [
    {
     "data": {
      "application/vnd.jupyter.widget-view+json": {
       "model_id": "8fd121194dda4959b8c1d5ab87878271",
       "version_major": 2,
       "version_minor": 0
      },
      "text/plain": [
       "FloatProgress(value=0.0, bar_style='info', description='Progress:', layout=Layout(height='25px', width='50%'),…"
      ]
     },
     "metadata": {},
     "output_type": "display_data"
    }
   ],
   "source": [
    "# Develop sentences\n",
    "sentences = df.groupBy('uniqueVisitId').agg(f.collect_list(\"property_zipcode\")) \n",
    "\n",
    "list_col = \"collect_list(property_zipcode)\"\n",
    "\n",
    "# Get first character of every sentence **as array\n",
    "def get_first_char(my_list):\n",
    "    return str(my_list[0])[0]\n",
    "\n",
    "get_first_char_udf = udf(get_first_char, StringType())\n",
    "\n",
    "sentences = sentences.withColumn(\"first_char\", get_first_char_udf(sentences[list_col]))"
   ]
  },
  {
   "cell_type": "code",
   "execution_count": 12,
   "id": "aeecb5ce",
   "metadata": {},
   "outputs": [
    {
     "data": {
      "application/vnd.jupyter.widget-view+json": {
       "model_id": "3aea08e2f56b434085dd312a2b6d968c",
       "version_major": 2,
       "version_minor": 0
      },
      "text/plain": [
       "FloatProgress(value=0.0, bar_style='info', description='Progress:', layout=Layout(height='25px', width='50%'),…"
      ]
     },
     "metadata": {},
     "output_type": "display_data"
    },
    {
     "name": "stdout",
     "output_type": "stream",
     "text": [
      "+-----------------------------+----------+-------------------------------------------------------------------------+\n",
      "|uniqueVisitId                |first_char|sentences_string                                                         |\n",
      "+-----------------------------+----------+-------------------------------------------------------------------------+\n",
      "|1648793792147401526900857024 |4         |[43207,43205]                                                            |\n",
      "|16487953062903547302760230786|9         |[95210,95203]                                                            |\n",
      "|16487965022357016614175307802|1         |[15045]                                                                  |\n",
      "|1648796574826153612616103662 |2         |[28560]                                                                  |\n",
      "|16487965915711311142362664613|2         |[22152,22003]                                                            |\n",
      "|16487967507527788867815383376|3         |[33321]                                                                  |\n",
      "|16487970901095499021868704302|7         |[77471,77494,77479,77469]                                                |\n",
      "|16487971334841378513129160433|7         |[77461,77494,77461,77471,77450]                                          |\n",
      "|16487971584578876880866092306|7         |[77469,77407,77469,77494]                                                |\n",
      "|16487976664209897954158749667|4         |[48187,48188,48187,48188]                                                |\n",
      "|16487983712122689301665189910|9         |[95993,95991]                                                            |\n",
      "|16487997422358703273612789215|4         |[46404,46403]                                                            |\n",
      "|16487999785167307938943797339|3         |[37027]                                                                  |\n",
      "|16488002208628362653888590301|7         |[76006,76011]                                                            |\n",
      "|16488003666882900803926229746|0         |[05151,05030,03773,03603,05759,03603,05156,03743,03603,03608,05047,05343]|\n",
      "|16488005842643208504370180934|7         |[78599]                                                                  |\n",
      "|16488008674134129396707931236|9         |[90280]                                                                  |\n",
      "|16488009008448529426856205640|9         |[93312]                                                                  |\n",
      "|16488016944176339072531533958|7         |[70056,70058]                                                            |\n",
      "|16488017597380588072137406504|6         |[62002,62024]                                                            |\n",
      "+-----------------------------+----------+-------------------------------------------------------------------------+\n",
      "only showing top 20 rows"
     ]
    }
   ],
   "source": [
    "sentences.show(truncate=False)"
   ]
  },
  {
   "cell_type": "code",
   "execution_count": 12,
   "id": "9ab6a816",
   "metadata": {},
   "outputs": [
    {
     "data": {
      "application/vnd.jupyter.widget-view+json": {
       "model_id": "f098da71c25445c085d897d86eb9d7b3",
       "version_major": 2,
       "version_minor": 0
      },
      "text/plain": [
       "FloatProgress(value=0.0, bar_style='info', description='Progress:', layout=Layout(height='25px', width='50%'),…"
      ]
     },
     "metadata": {},
     "output_type": "display_data"
    }
   ],
   "source": [
    "# Convert sentences_array to a string\n",
    "def array_to_string(my_list):\n",
    "    return '[' + ','.join([str(elem) for elem in my_list]) + ']'\n",
    "\n",
    "array_to_string_udf = udf(array_to_string, StringType())\n",
    "\n",
    "sentences = sentences.withColumn(\"sentences_string\", array_to_string_udf(sentences['collect_list(property_zipcode)']))\\\n",
    "                        .drop(\"collect_list(property_zipcode)\")"
   ]
  },
  {
   "cell_type": "code",
   "execution_count": 13,
   "id": "0b19260f",
   "metadata": {},
   "outputs": [
    {
     "data": {
      "application/vnd.jupyter.widget-view+json": {
       "model_id": "c479f4bf3b424af8b48bdec41f0e9965",
       "version_major": 2,
       "version_minor": 0
      },
      "text/plain": [
       "FloatProgress(value=0.0, bar_style='info', description='Progress:', layout=Layout(height='25px', width='50%'),…"
      ]
     },
     "metadata": {},
     "output_type": "display_data"
    }
   ],
   "source": [
    "# Read to csv file\n",
    "PATH = \"s3://ojo-data-science/glen/clickstream_v2_clean\"\n",
    "sentences.write\\\n",
    "            .mode(\"overwrite\")\\\n",
    "            .csv(PATH)"
   ]
  }
 ],
 "metadata": {
  "kernelspec": {
   "display_name": "Sparkmagic (PySpark)",
   "language": "python",
   "name": "pysparkkernel"
  },
  "language_info": {
   "codemirror_mode": {
    "name": "python",
    "version": 3
   },
   "file_extension": ".py",
   "mimetype": "text/x-python",
   "name": "pyspark",
   "pygments_lexer": "python3"
  }
 },
 "nbformat": 4,
 "nbformat_minor": 5
}
